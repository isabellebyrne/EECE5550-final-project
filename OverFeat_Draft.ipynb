{
  "nbformat": 4,
  "nbformat_minor": 0,
  "metadata": {
    "colab": {
      "provenance": [],
      "include_colab_link": true
    },
    "kernelspec": {
      "name": "python3",
      "display_name": "Python 3"
    },
    "language_info": {
      "name": "python"
    }
  },
  "cells": [
    {
      "cell_type": "markdown",
      "metadata": {
        "id": "view-in-github",
        "colab_type": "text"
      },
      "source": [
        "<a href=\"https://colab.research.google.com/github/isabellebyrne/EECE5550-final-project/blob/charlie-working/OverFeat_Draft.ipynb\" target=\"_parent\"><img src=\"https://colab.research.google.com/assets/colab-badge.svg\" alt=\"Open In Colab\"/></a>"
      ]
    },
    {
      "cell_type": "code",
      "execution_count": null,
      "metadata": {
        "id": "FkRxL1xS-pXV"
      },
      "outputs": [],
      "source": [
        "import torch\n",
        "from torch import nn\n",
        "import numpy as np"
      ]
    },
    {
      "cell_type": "code",
      "source": [],
      "metadata": {
        "id": "1PtGomtIUDbY"
      },
      "execution_count": null,
      "outputs": []
    },
    {
      "cell_type": "code",
      "source": [
        "class OverFeat(nn.Module):\n",
        "    def __init__(self):\n",
        "        super(OverFeat, self).__init__()\n",
        "\n",
        "        self.conv1 = nn.Conv2d(in_channels=3, out_channels=96, kernel_size=(7,7), stride=2)\n",
        "        self.maxp1 = nn.MaxPool2d(kernel_size=(3, 3), stride=3)\n",
        "\n",
        "        self.conv2 = nn.Conv2d(in_channels=96, out_channels=256, kernel_size=(7,7), stride=1)\n",
        "        self.maxp2 = nn.MaxPool2d(kernel_size=(2, 2), stride=2)\n",
        "\n",
        "        self.conv3 = nn.Conv2d(in_channels=256, out_channels=512, kernel_size=(3,3), stride=1, padding=1)\n",
        "\n",
        "        self.conv4 = nn.Conv2d(in_channels=512, out_channels=512, kernel_size=(3,3), stride=1, padding=1)\n",
        "\n",
        "        self.conv5 = nn.Conv2d(in_channels=512, out_channels=1024, kernel_size=(3,3), stride=1, padding=1)\n",
        "\n",
        "        self.conv6 = nn.Conv2d(in_channels=1024, out_channels=4096, kernel_size=(3,3), stride=1, padding=1)\n",
        "        self.maxp6 = nn.MaxPool2d(kernel_size=(3,3), stride=3)\n",
        "\n",
        "        self.linear1 = nn.Linear(in_features=4096, out_features=4096)\n",
        "\n",
        "    def forward(self, x):\n",
        "        x = self.conv1(x)\n",
        "        x = self.maxp1(x)\n",
        "        x = self.conv2(x)\n",
        "        x = self.maxp2(x)\n",
        "        x = self.conv3(x)\n",
        "        x = self.conv4(x)\n",
        "        x = self.conv5(x)\n",
        "        x = self.conv6(x)\n",
        "        x = self.maxp6(x)\n",
        "        x = self.linear1(x)\n",
        "\n",
        "        return x"
      ],
      "metadata": {
        "id": "J5Th441WDJO2"
      },
      "execution_count": null,
      "outputs": []
    }
  ]
}